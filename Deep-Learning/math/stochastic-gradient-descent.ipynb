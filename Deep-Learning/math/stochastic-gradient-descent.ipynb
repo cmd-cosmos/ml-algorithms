{
 "cells": [
  {
   "cell_type": "code",
   "execution_count": null,
   "id": "0ca462ac",
   "metadata": {},
   "outputs": [],
   "source": [
    "### stochastic gradient descent\n",
    "# adjust weights after each forward pass for individual samples.\n",
    "# very compute efficient for large training set\n",
    "# turbulant convergence curve\n",
    "# \n",
    "# Mini Batch Grad. Desc: take a batch of samples instead of single samples and do follow SGD \n",
    "\n"
   ]
  }
 ],
 "metadata": {
  "language_info": {
   "name": "python"
  }
 },
 "nbformat": 4,
 "nbformat_minor": 5
}
