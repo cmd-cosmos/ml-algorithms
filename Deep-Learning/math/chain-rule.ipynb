{
 "cells": [
  {
   "cell_type": "code",
   "execution_count": null,
   "id": "9bd765c8",
   "metadata": {},
   "outputs": [],
   "source": [
    "### chain rule during back prop and forward pass\n",
    "### using sympy calculating derivative\n"
   ]
  },
  {
   "cell_type": "code",
   "execution_count": 18,
   "id": "40ca8cb5",
   "metadata": {},
   "outputs": [
    {
     "data": {
      "text/latex": [
       "$\\displaystyle 5 x^{4}$"
      ],
      "text/plain": [
       "5*x**4"
      ]
     },
     "execution_count": 18,
     "metadata": {},
     "output_type": "execute_result"
    }
   ],
   "source": [
    "import numpy as np\n",
    "import sympy as sym\n",
    "import warnings\n",
    "warnings.filterwarnings('ignore')\n",
    "\n",
    "x = sym.Symbol('x')\n",
    "\n",
    "der1 = sym.diff(x**5)\n",
    "der1"
   ]
  },
  {
   "cell_type": "code",
   "execution_count": 22,
   "id": "1d7195d8",
   "metadata": {},
   "outputs": [
    {
     "data": {
      "text/latex": [
       "$\\displaystyle x^{4} + x^{2} + e^{\\cos{\\left(x^{9} \\right)}} + \\cos{\\left(2 x \\right)}$"
      ],
      "text/plain": [
       "x**4 + x**2 + exp(cos(x**9)) + cos(2*x)"
      ]
     },
     "execution_count": 22,
     "metadata": {},
     "output_type": "execute_result"
    }
   ],
   "source": [
    "func = x**4 + sym.cos(2*x) + sym.exp(sym.cos(x**9)) + x**2\n",
    "func"
   ]
  },
  {
   "cell_type": "code",
   "execution_count": 23,
   "id": "f1f6d7b4",
   "metadata": {},
   "outputs": [
    {
     "data": {
      "text/latex": [
       "$\\displaystyle - 9 x^{8} e^{\\cos{\\left(x^{9} \\right)}} \\sin{\\left(x^{9} \\right)} + 4 x^{3} + 2 x - 2 \\sin{\\left(2 x \\right)}$"
      ],
      "text/plain": [
       "-9*x**8*exp(cos(x**9))*sin(x**9) + 4*x**3 + 2*x - 2*sin(2*x)"
      ]
     },
     "execution_count": 23,
     "metadata": {},
     "output_type": "execute_result"
    }
   ],
   "source": [
    "der_func = sym.diff(func)\n",
    "der_func"
   ]
  },
  {
   "cell_type": "code",
   "execution_count": null,
   "id": "b55c2eb2",
   "metadata": {},
   "outputs": [],
   "source": []
  }
 ],
 "metadata": {
  "kernelspec": {
   "display_name": ".venv (3.12.0)",
   "language": "python",
   "name": "python3"
  },
  "language_info": {
   "codemirror_mode": {
    "name": "ipython",
    "version": 3
   },
   "file_extension": ".py",
   "mimetype": "text/x-python",
   "name": "python",
   "nbconvert_exporter": "python",
   "pygments_lexer": "ipython3",
   "version": "3.12.0"
  }
 },
 "nbformat": 4,
 "nbformat_minor": 5
}
