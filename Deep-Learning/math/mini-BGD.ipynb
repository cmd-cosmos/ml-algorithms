{
 "cells": [
  {
   "cell_type": "code",
   "execution_count": 1,
   "id": "9be55654",
   "metadata": {},
   "outputs": [],
   "source": [
    "### Mini batch gradient descent ---> stochastic gradient descent done with batches of data instead of single sample.\n",
    "\n",
    "import random\n",
    "import numpy as np \n",
    "import pandas as pd\n",
    "import matplotlib.pyplot as plt\n",
    "from sklearn.preprocessing import MinMaxScaler\n",
    "from sklearn.model_selection import train_test_split\n",
    "import warnings\n",
    "warnings.filterwarnings('ignore')"
   ]
  },
  {
   "cell_type": "code",
   "execution_count": 2,
   "id": "edbd277e",
   "metadata": {},
   "outputs": [
    {
     "data": {
      "text/html": [
       "<div>\n",
       "<style scoped>\n",
       "    .dataframe tbody tr th:only-of-type {\n",
       "        vertical-align: middle;\n",
       "    }\n",
       "\n",
       "    .dataframe tbody tr th {\n",
       "        vertical-align: top;\n",
       "    }\n",
       "\n",
       "    .dataframe thead th {\n",
       "        text-align: right;\n",
       "    }\n",
       "</style>\n",
       "<table border=\"1\" class=\"dataframe\">\n",
       "  <thead>\n",
       "    <tr style=\"text-align: right;\">\n",
       "      <th></th>\n",
       "      <th>price</th>\n",
       "      <th>area</th>\n",
       "      <th>bedrooms</th>\n",
       "    </tr>\n",
       "  </thead>\n",
       "  <tbody>\n",
       "    <tr>\n",
       "      <th>0</th>\n",
       "      <td>13300000</td>\n",
       "      <td>7420</td>\n",
       "      <td>4</td>\n",
       "    </tr>\n",
       "    <tr>\n",
       "      <th>1</th>\n",
       "      <td>12250000</td>\n",
       "      <td>8960</td>\n",
       "      <td>4</td>\n",
       "    </tr>\n",
       "    <tr>\n",
       "      <th>2</th>\n",
       "      <td>12250000</td>\n",
       "      <td>9960</td>\n",
       "      <td>3</td>\n",
       "    </tr>\n",
       "    <tr>\n",
       "      <th>3</th>\n",
       "      <td>12215000</td>\n",
       "      <td>7500</td>\n",
       "      <td>4</td>\n",
       "    </tr>\n",
       "    <tr>\n",
       "      <th>4</th>\n",
       "      <td>11410000</td>\n",
       "      <td>7420</td>\n",
       "      <td>4</td>\n",
       "    </tr>\n",
       "  </tbody>\n",
       "</table>\n",
       "</div>"
      ],
      "text/plain": [
       "      price  area  bedrooms\n",
       "0  13300000  7420         4\n",
       "1  12250000  8960         4\n",
       "2  12250000  9960         3\n",
       "3  12215000  7500         4\n",
       "4  11410000  7420         4"
      ]
     },
     "execution_count": 2,
     "metadata": {},
     "output_type": "execute_result"
    }
   ],
   "source": [
    "df = pd.read_csv(\"Datasets/Housing.csv\")\n",
    "df = df[[\"price\",\"area\", \"bedrooms\"]]\n",
    "df.head()"
   ]
  },
  {
   "cell_type": "code",
   "execution_count": 3,
   "id": "7b66c468",
   "metadata": {},
   "outputs": [],
   "source": [
    "### scaling data\n",
    "\n",
    "scaler_x = MinMaxScaler()\n",
    "scaler_y = MinMaxScaler()\n",
    "scaled_x = scaler_x.fit_transform(df.drop([\"price\"], axis=1))\n",
    "scaled_y = scaler_y.fit_transform(df[[\"price\"]])"
   ]
  },
  {
   "cell_type": "code",
   "execution_count": 23,
   "id": "7ee11754",
   "metadata": {},
   "outputs": [
    {
     "name": "stdout",
     "output_type": "stream",
     "text": [
      "[0.55783576 0.37430485]\n",
      "-0.021573986208720596\n",
      "0.009736859762800925\n"
     ]
    }
   ],
   "source": [
    "def mini_BGD(x, y_true, epochs, learning_rate=0.01):\n",
    "    num_fetures = x.shape[1] # num of cols\n",
    "    bias = 0\n",
    "    weights = np.ones(shape=(num_fetures))\n",
    "    total_samples = x.shape[0] # rows\n",
    "    batch_size = 100\n",
    "    cost_list = []\n",
    "    epoch_list = []\n",
    "    if batch_size > total_samples:\n",
    "        batch_size = total_samples\n",
    "        \n",
    "    for i in range(epochs):\n",
    "        random_idx = np.random.permutation(total_samples)\n",
    "        x_samples = x[random_idx]\n",
    "        y_samples = y_true[random_idx]\n",
    "\n",
    "        for j in range(0, total_samples, batch_size):\n",
    "            x_mini = x_samples[j:j+batch_size]\n",
    "            y_mini = y_samples[j:j+batch_size]\n",
    "\n",
    "            y_pred = np.dot(weights, x_mini.T) + bias\n",
    "            weights_pd = -(2/len(x_mini)) * (x_mini.T.dot(y_mini-y_pred))\n",
    "            bias_pd = -(2/len(x_mini)) * np.sum(y_mini-y_pred)\n",
    "\n",
    "            weights = weights - learning_rate*weights_pd\n",
    "            bias = bias - learning_rate*bias_pd\n",
    "\n",
    "            cost = np.mean(np.square(y_mini - y_pred))\n",
    "\n",
    "        if i%100==0:\n",
    "            cost_list.append(cost)\n",
    "            epoch_list.append(i)\n",
    "\n",
    "    return weights, bias, cost, cost_list, epoch_list\n",
    "\n",
    "weights, bias, cost, cost_list, epoch_list = mini_BGD(scaled_x, scaled_y.reshape(scaled_y.shape[0],),1000)\n",
    "\n",
    "print(weights)\n",
    "print(bias)\n",
    "print(cost)"
   ]
  },
  {
   "cell_type": "code",
   "execution_count": 24,
   "id": "be9995b3",
   "metadata": {},
   "outputs": [
    {
     "data": {
      "text/plain": [
       "np.float64(6649813.336372962)"
      ]
     },
     "execution_count": 24,
     "metadata": {},
     "output_type": "execute_result"
    }
   ],
   "source": [
    "### prediction function based on the computed weights and biases\n",
    "\n",
    "def predict(area, bedrooms, weights, bias):\n",
    "    scaled_inp = scaler_x.transform([[area, bedrooms]])[0]\n",
    "    scaled_price = weights[0]*scaled_inp[0] + weights[1]*scaled_inp[1] + bias\n",
    "\n",
    "    unscaled_price = scaler_y.inverse_transform([[scaled_price]])[0][0]\n",
    "\n",
    "    return unscaled_price\n",
    "\n",
    "predict(7420, 4, weights ,bias)"
   ]
  },
  {
   "cell_type": "code",
   "execution_count": 25,
   "id": "320b8a6f",
   "metadata": {},
   "outputs": [
    {
     "data": {
      "text/plain": [
       "[<matplotlib.lines.Line2D at 0x1da7078b230>]"
      ]
     },
     "execution_count": 25,
     "metadata": {},
     "output_type": "execute_result"
    },
    {
     "data": {
      "image/png": "[encoded data removed]",
      "text/plain": [
       "<Figure size 640x480 with 1 Axes>"
      ]
     },
     "metadata": {},
     "output_type": "display_data"
    }
   ],
   "source": [
    "plt.plot(epoch_list, cost_list)"
   ]
  }
 ],
 "metadata": {
  "kernelspec": {
   "display_name": ".venv (3.12.0)",
   "language": "python",
   "name": "python3"
  },
  "language_info": {
   "codemirror_mode": {
    "name": "ipython",
    "version": 3
   },
   "file_extension": ".py",
   "mimetype": "text/x-python",
   "name": "python",
   "nbconvert_exporter": "python",
   "pygments_lexer": "ipython3",
   "version": "3.12.0"
  }
 },
 "nbformat": 4,
 "nbformat_minor": 5
}
