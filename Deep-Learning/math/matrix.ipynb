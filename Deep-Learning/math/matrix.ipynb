{
 "cells": [
  {
   "cell_type": "code",
   "execution_count": 2,
   "id": "2ce92cb5",
   "metadata": {},
   "outputs": [],
   "source": [
    "'''\n",
    "Matrix Arithmatic: primararily for NN training \n",
    "'''\n",
    "\n",
    "import numpy as np"
   ]
  },
  {
   "cell_type": "code",
   "execution_count": null,
   "id": "7defc655",
   "metadata": {},
   "outputs": [
    {
     "data": {
      "text/plain": [
       "array([[1],\n",
       "       [2],\n",
       "       [3]])"
      ]
     },
     "execution_count": 5,
     "metadata": {},
     "output_type": "execute_result"
    }
   ],
   "source": [
    "# column vector\n",
    "a = np.array([1,2,3])       # 1D list\n",
    "a_col = np.reshape(a,(3,1)) # actual col vector\n",
    "a_col\n"
   ]
  },
  {
   "cell_type": "code",
   "execution_count": 16,
   "id": "a179f13a",
   "metadata": {},
   "outputs": [
    {
     "data": {
      "text/plain": [
       "(3, 1)"
      ]
     },
     "execution_count": 16,
     "metadata": {},
     "output_type": "execute_result"
    }
   ],
   "source": [
    "np.shape(a_col)"
   ]
  },
  {
   "cell_type": "code",
   "execution_count": 6,
   "id": "74000521",
   "metadata": {},
   "outputs": [
    {
     "data": {
      "text/plain": [
       "(3, 3)"
      ]
     },
     "execution_count": 6,
     "metadata": {},
     "output_type": "execute_result"
    }
   ],
   "source": [
    "### 3x3 matrix\n",
    "b = np.array([\n",
    "    [10,20,30],\n",
    "    [10,20,30],\n",
    "    [10,20,30]\n",
    "    ])\n",
    "np.shape(b)"
   ]
  },
  {
   "cell_type": "code",
   "execution_count": null,
   "id": "6936071b",
   "metadata": {},
   "outputs": [
    {
     "data": {
      "text/plain": [
       "array([[10, 20, 30],\n",
       "       [20, 40, 60],\n",
       "       [30, 60, 90]])"
      ]
     },
     "execution_count": 14,
     "metadata": {},
     "output_type": "execute_result"
    }
   ],
   "source": [
    "prod_col = a_col*b\n",
    "prod_col"
   ]
  },
  {
   "cell_type": "code",
   "execution_count": 17,
   "id": "9ffb98a4",
   "metadata": {},
   "outputs": [
    {
     "data": {
      "text/plain": [
       "array([[140],\n",
       "       [140],\n",
       "       [140]])"
      ]
     },
     "execution_count": 17,
     "metadata": {},
     "output_type": "execute_result"
    }
   ],
   "source": [
    "mat_prod = np.dot(b, a_col)\n",
    "mat_prod"
   ]
  },
  {
   "cell_type": "code",
   "execution_count": 18,
   "id": "afdd1579",
   "metadata": {},
   "outputs": [
    {
     "data": {
      "text/plain": [
       "(3, 1)"
      ]
     },
     "execution_count": 18,
     "metadata": {},
     "output_type": "execute_result"
    }
   ],
   "source": [
    "np.shape(mat_prod)"
   ]
  },
  {
   "cell_type": "code",
   "execution_count": 9,
   "id": "910194ec",
   "metadata": {},
   "outputs": [
    {
     "data": {
      "text/plain": [
       "(1, 3)"
      ]
     },
     "execution_count": 9,
     "metadata": {},
     "output_type": "execute_result"
    }
   ],
   "source": [
    "### Row vector for a\n",
    "row_a = a.reshape(1,3) # 1 row with 3 entries(3 columns)\n",
    "np.shape(row_a)"
   ]
  },
  {
   "cell_type": "code",
   "execution_count": 19,
   "id": "5736889f",
   "metadata": {},
   "outputs": [
    {
     "data": {
      "text/plain": [
       "array([[10, 40, 90],\n",
       "       [10, 40, 90],\n",
       "       [10, 40, 90]])"
      ]
     },
     "execution_count": 19,
     "metadata": {},
     "output_type": "execute_result"
    }
   ],
   "source": [
    "### row mult \n",
    "\n",
    "prod_row = row_a*b\n",
    "prod_row"
   ]
  },
  {
   "cell_type": "code",
   "execution_count": 20,
   "id": "ce66ca39",
   "metadata": {},
   "outputs": [
    {
     "data": {
      "text/plain": [
       "array([[ 60, 120, 180]])"
      ]
     },
     "execution_count": 20,
     "metadata": {},
     "output_type": "execute_result"
    }
   ],
   "source": [
    "res = np.dot(row_a, b)\n",
    "res"
   ]
  },
  {
   "cell_type": "code",
   "execution_count": 21,
   "id": "ceb68929",
   "metadata": {},
   "outputs": [
    {
     "data": {
      "text/plain": [
       "(1, 3)"
      ]
     },
     "execution_count": 21,
     "metadata": {},
     "output_type": "execute_result"
    }
   ],
   "source": [
    "np.shape(res)"
   ]
  },
  {
   "cell_type": "code",
   "execution_count": null,
   "id": "709c4e16",
   "metadata": {},
   "outputs": [],
   "source": [
    "#### Dot product work with some shape incoherency due to them being more vector concentrated.\n",
    "#### Matrix mult requires shape checking and arrangement\n",
    "\n"
   ]
  }
 ],
 "metadata": {
  "kernelspec": {
   "display_name": "Python 3",
   "language": "python",
   "name": "python3"
  },
  "language_info": {
   "codemirror_mode": {
    "name": "ipython",
    "version": 3
   },
   "file_extension": ".py",
   "mimetype": "text/x-python",
   "name": "python",
   "nbconvert_exporter": "python",
   "pygments_lexer": "ipython3",
   "version": "3.13.5"
  }
 },
 "nbformat": 4,
 "nbformat_minor": 5
}
