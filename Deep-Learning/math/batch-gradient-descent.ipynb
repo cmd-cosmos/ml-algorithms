{
 "cells": [
  {
   "cell_type": "code",
   "execution_count": null,
   "id": "f759f488",
   "metadata": {},
   "outputs": [],
   "source": [
    "### BGD: \n",
    "# Go through all training samples and cal. individual losses\n",
    "# compute the cumulative error for all samples after a single epoch\n",
    "# backprop the error and adjust weights\n",
    "# very slow for large number of samples ---> too much computation\n",
    "# smooth convergence\n",
    "\n",
    "\n"
   ]
  }
 ],
 "metadata": {
  "language_info": {
   "name": "python"
  }
 },
 "nbformat": 4,
 "nbformat_minor": 5
}
