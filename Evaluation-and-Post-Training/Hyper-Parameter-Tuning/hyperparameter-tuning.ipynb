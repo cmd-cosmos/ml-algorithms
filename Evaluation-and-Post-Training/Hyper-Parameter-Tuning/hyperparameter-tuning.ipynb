{
 "cells": [
  {
   "cell_type": "code",
   "execution_count": 4,
   "id": "03e85cd5-1e9c-4ee0-99db-4296825c504d",
   "metadata": {},
   "outputs": [],
   "source": [
    "#### choosing the best model based on problem scope/evaluation metrics from other models\n",
    "#### optimizing hyperparameters to maximize model performance\n",
    "\n",
    "# Eg) classification problem on the iris dataset:\n",
    "# possible choices:\n",
    "# ---> Multiclass Logistic Regression\n",
    "# ---> Decision Tree\n",
    "# ---> Random Forest\n",
    "# ---> SVM\n",
    "# ---> Naive Bayes\n",
    "\n",
    "# assume we choose the SVM ----> hyperparamaters ----> what kernel to choose: rbf, linear\n",
    "#                                                ----> what C and gamma to choose\n",
    "\n",
    "# Hyperparameter tuning ---> process of choosing the optimal hyperparameter val.\n",
    "\n",
    "import pandas as pd\n",
    "from sklearn.datasets import load_iris\n",
    "from sklearn.model_selection import train_test_split\n",
    "from sklearn.svm import SVC"
   ]
  },
  {
   "cell_type": "code",
   "execution_count": 6,
   "id": "52964147-118e-475b-a328-cd1650d03897",
   "metadata": {},
   "outputs": [
    {
     "data": {
      "text/plain": [
       "['DESCR',\n",
       " 'data',\n",
       " 'data_module',\n",
       " 'feature_names',\n",
       " 'filename',\n",
       " 'frame',\n",
       " 'target',\n",
       " 'target_names']"
      ]
     },
     "execution_count": 6,
     "metadata": {},
     "output_type": "execute_result"
    }
   ],
   "source": [
    "iris = load_iris()\n",
    "dir(iris)"
   ]
  },
  {
   "cell_type": "code",
   "execution_count": null,
   "id": "6d4e20d8-0322-471d-a66a-2e80094ea4d4",
   "metadata": {},
   "outputs": [],
   "source": []
  },
  {
   "cell_type": "code",
   "execution_count": 8,
   "id": "ed043312-2da8-4ea7-8585-d248f5b3d147",
   "metadata": {},
   "outputs": [],
   "source": [
    "X = \n",
    "y= \n",
    "\n",
    "X_train, X_test, y_train, y_test = train_test_split(X, y, test_size=0.2, random_state=10)"
   ]
  },
  {
   "cell_type": "code",
   "execution_count": 10,
   "id": "f2e3a666-4bc5-4114-ba69-4a068930c3d4",
   "metadata": {},
   "outputs": [],
   "source": [
    "model = SVC(kernel='rbf', C=2.0, gamma='auto')"
   ]
  },
  {
   "cell_type": "code",
   "execution_count": null,
   "id": "44117a16-1914-4318-a327-fa98895b891b",
   "metadata": {},
   "outputs": [],
   "source": []
  }
 ],
 "metadata": {
  "kernelspec": {
   "display_name": "Python 3 (ipykernel)",
   "language": "python",
   "name": "python3"
  },
  "language_info": {
   "codemirror_mode": {
    "name": "ipython",
    "version": 3
   },
   "file_extension": ".py",
   "mimetype": "text/x-python",
   "name": "python",
   "nbconvert_exporter": "python",
   "pygments_lexer": "ipython3",
   "version": "3.13.5"
  }
 },
 "nbformat": 4,
 "nbformat_minor": 5
}
